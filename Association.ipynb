{
 "cells": [
  {
   "cell_type": "code",
   "execution_count": 69,
   "metadata": {},
   "outputs": [],
   "source": [
    "import pandas as pd\n",
    "from mlxtend.frequent_patterns import apriori, association_rules"
   ]
  },
  {
   "cell_type": "code",
   "execution_count": 70,
   "metadata": {},
   "outputs": [],
   "source": [
    "df = pd.read_csv(\"balanced_migraine_data.csv\")"
   ]
  },
  {
   "cell_type": "code",
   "execution_count": 71,
   "metadata": {},
   "outputs": [
    {
     "data": {
      "text/plain": [
       "(1687, 24)"
      ]
     },
     "execution_count": 71,
     "metadata": {},
     "output_type": "execute_result"
    }
   ],
   "source": [
    "df.shape"
   ]
  },
  {
   "cell_type": "code",
   "execution_count": 72,
   "metadata": {},
   "outputs": [],
   "source": [
    "df = df[['Nausea', 'Vomit', 'Phonophobia', 'Photophobia', 'Dysphasia', 'Dysarthria', 'Vertigo', 'Tinnitus', 'Hypoacusis', 'Diplopia', 'Defect', 'Ataxia', 'Conscience', 'Paresthesia', \"DPF\"]]"
   ]
  },
  {
   "cell_type": "code",
   "execution_count": 73,
   "metadata": {},
   "outputs": [],
   "source": [
    "df = df.drop_duplicates()"
   ]
  },
  {
   "cell_type": "code",
   "execution_count": 74,
   "metadata": {},
   "outputs": [
    {
     "data": {
      "text/plain": [
       "(68, 15)"
      ]
     },
     "execution_count": 74,
     "metadata": {},
     "output_type": "execute_result"
    }
   ],
   "source": [
    "df.shape"
   ]
  },
  {
   "cell_type": "code",
   "execution_count": 75,
   "metadata": {},
   "outputs": [
    {
     "data": {
      "text/html": [
       "<div>\n",
       "<style scoped>\n",
       "    .dataframe tbody tr th:only-of-type {\n",
       "        vertical-align: middle;\n",
       "    }\n",
       "\n",
       "    .dataframe tbody tr th {\n",
       "        vertical-align: top;\n",
       "    }\n",
       "\n",
       "    .dataframe thead th {\n",
       "        text-align: right;\n",
       "    }\n",
       "</style>\n",
       "<table border=\"1\" class=\"dataframe\">\n",
       "  <thead>\n",
       "    <tr style=\"text-align: right;\">\n",
       "      <th></th>\n",
       "      <th>Nausea</th>\n",
       "      <th>Vomit</th>\n",
       "      <th>Phonophobia</th>\n",
       "      <th>Photophobia</th>\n",
       "      <th>Dysphasia</th>\n",
       "      <th>Dysarthria</th>\n",
       "      <th>Vertigo</th>\n",
       "      <th>Tinnitus</th>\n",
       "      <th>Hypoacusis</th>\n",
       "      <th>Diplopia</th>\n",
       "      <th>Defect</th>\n",
       "      <th>Ataxia</th>\n",
       "      <th>Conscience</th>\n",
       "      <th>Paresthesia</th>\n",
       "      <th>DPF</th>\n",
       "    </tr>\n",
       "  </thead>\n",
       "  <tbody>\n",
       "    <tr>\n",
       "      <th>0</th>\n",
       "      <td>1</td>\n",
       "      <td>0</td>\n",
       "      <td>1</td>\n",
       "      <td>1</td>\n",
       "      <td>0</td>\n",
       "      <td>0</td>\n",
       "      <td>0</td>\n",
       "      <td>0</td>\n",
       "      <td>0</td>\n",
       "      <td>0</td>\n",
       "      <td>0</td>\n",
       "      <td>0</td>\n",
       "      <td>0</td>\n",
       "      <td>0</td>\n",
       "      <td>0</td>\n",
       "    </tr>\n",
       "    <tr>\n",
       "      <th>1</th>\n",
       "      <td>1</td>\n",
       "      <td>1</td>\n",
       "      <td>1</td>\n",
       "      <td>1</td>\n",
       "      <td>0</td>\n",
       "      <td>0</td>\n",
       "      <td>1</td>\n",
       "      <td>0</td>\n",
       "      <td>0</td>\n",
       "      <td>0</td>\n",
       "      <td>0</td>\n",
       "      <td>0</td>\n",
       "      <td>0</td>\n",
       "      <td>0</td>\n",
       "      <td>0</td>\n",
       "    </tr>\n",
       "    <tr>\n",
       "      <th>2</th>\n",
       "      <td>1</td>\n",
       "      <td>1</td>\n",
       "      <td>1</td>\n",
       "      <td>1</td>\n",
       "      <td>0</td>\n",
       "      <td>0</td>\n",
       "      <td>0</td>\n",
       "      <td>0</td>\n",
       "      <td>0</td>\n",
       "      <td>0</td>\n",
       "      <td>0</td>\n",
       "      <td>0</td>\n",
       "      <td>0</td>\n",
       "      <td>0</td>\n",
       "      <td>0</td>\n",
       "    </tr>\n",
       "    <tr>\n",
       "      <th>3</th>\n",
       "      <td>1</td>\n",
       "      <td>0</td>\n",
       "      <td>1</td>\n",
       "      <td>1</td>\n",
       "      <td>0</td>\n",
       "      <td>0</td>\n",
       "      <td>1</td>\n",
       "      <td>0</td>\n",
       "      <td>0</td>\n",
       "      <td>0</td>\n",
       "      <td>0</td>\n",
       "      <td>0</td>\n",
       "      <td>0</td>\n",
       "      <td>0</td>\n",
       "      <td>0</td>\n",
       "    </tr>\n",
       "    <tr>\n",
       "      <th>4</th>\n",
       "      <td>1</td>\n",
       "      <td>0</td>\n",
       "      <td>1</td>\n",
       "      <td>1</td>\n",
       "      <td>0</td>\n",
       "      <td>0</td>\n",
       "      <td>0</td>\n",
       "      <td>0</td>\n",
       "      <td>0</td>\n",
       "      <td>0</td>\n",
       "      <td>0</td>\n",
       "      <td>0</td>\n",
       "      <td>0</td>\n",
       "      <td>0</td>\n",
       "      <td>1</td>\n",
       "    </tr>\n",
       "  </tbody>\n",
       "</table>\n",
       "</div>"
      ],
      "text/plain": [
       "   Nausea  Vomit  Phonophobia  Photophobia  Dysphasia  Dysarthria  Vertigo  \\\n",
       "0       1      0            1            1          0           0        0   \n",
       "1       1      1            1            1          0           0        1   \n",
       "2       1      1            1            1          0           0        0   \n",
       "3       1      0            1            1          0           0        1   \n",
       "4       1      0            1            1          0           0        0   \n",
       "\n",
       "   Tinnitus  Hypoacusis  Diplopia  Defect  Ataxia  Conscience  Paresthesia  \\\n",
       "0         0           0         0       0       0           0            0   \n",
       "1         0           0         0       0       0           0            0   \n",
       "2         0           0         0       0       0           0            0   \n",
       "3         0           0         0       0       0           0            0   \n",
       "4         0           0         0       0       0           0            0   \n",
       "\n",
       "   DPF  \n",
       "0    0  \n",
       "1    0  \n",
       "2    0  \n",
       "3    0  \n",
       "4    1  "
      ]
     },
     "execution_count": 75,
     "metadata": {},
     "output_type": "execute_result"
    }
   ],
   "source": [
    "df.head()"
   ]
  },
  {
   "cell_type": "code",
   "execution_count": 76,
   "metadata": {},
   "outputs": [
    {
     "data": {
      "text/plain": [
       "(68, 15)"
      ]
     },
     "execution_count": 76,
     "metadata": {},
     "output_type": "execute_result"
    }
   ],
   "source": [
    "df.shape"
   ]
  },
  {
   "cell_type": "code",
   "execution_count": 77,
   "metadata": {},
   "outputs": [
    {
     "name": "stderr",
     "output_type": "stream",
     "text": [
      "C:\\Users\\diya0\\AppData\\Roaming\\Python\\Python312\\site-packages\\mlxtend\\frequent_patterns\\fpcommon.py:109: DeprecationWarning: DataFrames with non-bool types result in worse computationalperformance and their support might be discontinued in the future.Please use a DataFrame with bool type\n",
      "  warnings.warn(\n"
     ]
    }
   ],
   "source": [
    "frequent_itemsets = apriori(df, min_support=0.1, use_colnames=True)"
   ]
  },
  {
   "cell_type": "code",
   "execution_count": 78,
   "metadata": {},
   "outputs": [
    {
     "name": "stdout",
     "output_type": "stream",
     "text": [
      "       antecedents                                   consequents  \\\n",
      "0          (Vomit)                                      (Nausea)   \n",
      "1         (Nausea)                                       (Vomit)   \n",
      "2         (Nausea)                                 (Phonophobia)   \n",
      "3    (Phonophobia)                                      (Nausea)   \n",
      "4    (Photophobia)                                      (Nausea)   \n",
      "..             ...                                           ...   \n",
      "665          (DPF)  (Photophobia, Nausea, Tinnitus, Phonophobia)   \n",
      "666       (Nausea)     (DPF, Phonophobia, Tinnitus, Photophobia)   \n",
      "667  (Photophobia)          (DPF, Nausea, Tinnitus, Phonophobia)   \n",
      "668  (Phonophobia)          (DPF, Nausea, Tinnitus, Photophobia)   \n",
      "669     (Tinnitus)       (DPF, Nausea, Phonophobia, Photophobia)   \n",
      "\n",
      "     antecedent support  consequent support   support  confidence      lift  \\\n",
      "0              0.264706            0.823529  0.264706    1.000000  1.214286   \n",
      "1              0.823529            0.264706  0.264706    0.321429  1.214286   \n",
      "2              0.823529            0.750000  0.661765    0.803571  1.071429   \n",
      "3              0.750000            0.823529  0.661765    0.882353  1.071429   \n",
      "4              0.823529            0.823529  0.750000    0.910714  1.105867   \n",
      "..                  ...                 ...       ...         ...       ...   \n",
      "665            0.544118            0.250000  0.161765    0.297297  1.189189   \n",
      "666            0.823529            0.176471  0.161765    0.196429  1.113095   \n",
      "667            0.823529            0.161765  0.161765    0.196429  1.214286   \n",
      "668            0.750000            0.161765  0.161765    0.215686  1.333333   \n",
      "669            0.264706            0.352941  0.161765    0.611111  1.731481   \n",
      "\n",
      "     leverage  conviction  zhangs_metric  \n",
      "0    0.046713         inf       0.240000  \n",
      "1    0.046713    1.083591       1.000000  \n",
      "2    0.044118    1.272727       0.377778  \n",
      "3    0.044118    1.500000       0.266667  \n",
      "4    0.071799    1.976471       0.542484  \n",
      "..        ...         ...            ...  \n",
      "665  0.025735    1.067308       0.348974  \n",
      "666  0.016436    1.024837       0.575758  \n",
      "667  0.028547    1.043137       1.000000  \n",
      "668  0.040441    1.068750       1.000000  \n",
      "669  0.068339    1.663866       0.574545  \n",
      "\n",
      "[670 rows x 10 columns]\n"
     ]
    }
   ],
   "source": [
    "rules = association_rules(frequent_itemsets, metric=\"lift\", min_threshold=1)\n",
    "print(rules)"
   ]
  },
  {
   "cell_type": "code",
   "execution_count": 79,
   "metadata": {},
   "outputs": [
    {
     "data": {
      "text/plain": [
       "0      1.000000\n",
       "1      0.321429\n",
       "2      0.803571\n",
       "3      0.882353\n",
       "4      0.910714\n",
       "         ...   \n",
       "665    0.297297\n",
       "666    0.196429\n",
       "667    0.196429\n",
       "668    0.215686\n",
       "669    0.611111\n",
       "Name: confidence, Length: 670, dtype: float64"
      ]
     },
     "execution_count": 79,
     "metadata": {},
     "output_type": "execute_result"
    }
   ],
   "source": [
    "rules['confidence']"
   ]
  },
  {
   "cell_type": "code",
   "execution_count": 80,
   "metadata": {},
   "outputs": [
    {
     "data": {
      "text/plain": [
       "0      1.214286\n",
       "1      1.214286\n",
       "2      1.071429\n",
       "3      1.071429\n",
       "4      1.105867\n",
       "         ...   \n",
       "665    1.189189\n",
       "666    1.113095\n",
       "667    1.214286\n",
       "668    1.333333\n",
       "669    1.731481\n",
       "Name: lift, Length: 670, dtype: float64"
      ]
     },
     "execution_count": 80,
     "metadata": {},
     "output_type": "execute_result"
    }
   ],
   "source": [
    "rules['lift']"
   ]
  },
  {
   "cell_type": "code",
   "execution_count": 81,
   "metadata": {},
   "outputs": [
    {
     "name": "stdout",
     "output_type": "stream",
     "text": [
      "                       antecedents                         consequents  \\\n",
      "104                   (Conscience)               (Nausea, Phonophobia)   \n",
      "363      (Photophobia, Conscience)               (Nausea, Phonophobia)   \n",
      "534  (Vomit, Vertigo, Photophobia)               (Nausea, Phonophobia)   \n",
      "314                    (Dysphasia)  (Photophobia, Nausea, Phonophobia)   \n",
      "350      (Photophobia, Hypoacusis)               (Nausea, Phonophobia)   \n",
      "..                             ...                                 ...   \n",
      "37                       (Vertigo)                       (Photophobia)   \n",
      "9                        (Vertigo)                            (Nausea)   \n",
      "45                           (DPF)                       (Photophobia)   \n",
      "32                           (DPF)                       (Phonophobia)   \n",
      "441                 (DPF, Vertigo)               (Photophobia, Nausea)   \n",
      "\n",
      "     antecedent support  consequent support   support  confidence      lift  \\\n",
      "104            0.117647            0.661765  0.117647    1.000000  1.511111   \n",
      "363            0.117647            0.661765  0.117647    1.000000  1.511111   \n",
      "534            0.117647            0.661765  0.117647    1.000000  1.511111   \n",
      "314            0.147059            0.661765  0.147059    1.000000  1.511111   \n",
      "350            0.102941            0.661765  0.102941    1.000000  1.511111   \n",
      "..                  ...                 ...       ...         ...       ...   \n",
      "37             0.485294            0.823529  0.411765    0.848485  1.030303   \n",
      "9              0.485294            0.823529  0.411765    0.848485  1.030303   \n",
      "45             0.544118            0.823529  0.455882    0.837838  1.017375   \n",
      "32             0.544118            0.750000  0.411765    0.756757  1.009009   \n",
      "441            0.294118            0.750000  0.220588    0.750000  1.000000   \n",
      "\n",
      "     leverage  conviction  zhangs_metric  \n",
      "104  0.039792         inf       0.383333  \n",
      "363  0.039792         inf       0.383333  \n",
      "534  0.039792         inf       0.383333  \n",
      "314  0.049740         inf       0.396552  \n",
      "350  0.034818         inf       0.377049  \n",
      "..        ...         ...            ...  \n",
      "37   0.012111    1.164706       0.057143  \n",
      "9    0.012111    1.164706       0.057143  \n",
      "45   0.007785    1.088235       0.037461  \n",
      "32   0.003676    1.027778       0.019585  \n",
      "441  0.000000    1.000000       0.000000  \n",
      "\n",
      "[232 rows x 10 columns]\n"
     ]
    }
   ],
   "source": [
    "filtered_rules = rules[(rules['confidence'] > 0.7) & (rules['lift'] > 0.8)]\n",
    "filtered_rules = filtered_rules.sort_values(by='lift', ascending=False)\n",
    "print(filtered_rules)"
   ]
  }
 ],
 "metadata": {
  "kernelspec": {
   "display_name": "Python 3",
   "language": "python",
   "name": "python3"
  },
  "language_info": {
   "codemirror_mode": {
    "name": "ipython",
    "version": 3
   },
   "file_extension": ".py",
   "mimetype": "text/x-python",
   "name": "python",
   "nbconvert_exporter": "python",
   "pygments_lexer": "ipython3",
   "version": "3.12.1"
  }
 },
 "nbformat": 4,
 "nbformat_minor": 2
}
