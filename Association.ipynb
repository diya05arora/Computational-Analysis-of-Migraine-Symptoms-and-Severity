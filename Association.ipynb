{
 "cells": [
  {
   "cell_type": "code",
   "execution_count": 40,
   "metadata": {},
   "outputs": [],
   "source": [
    "import pandas as pd\n",
    "from mlxtend.frequent_patterns import apriori, association_rules"
   ]
  },
  {
   "cell_type": "code",
   "execution_count": 41,
   "metadata": {},
   "outputs": [],
   "source": [
    "df = pd.read_csv(\"balanced_migraine_data.csv\")"
   ]
  },
  {
   "cell_type": "code",
   "execution_count": 42,
   "metadata": {},
   "outputs": [
    {
     "data": {
      "text/plain": [
       "(1687, 24)"
      ]
     },
     "execution_count": 42,
     "metadata": {},
     "output_type": "execute_result"
    }
   ],
   "source": [
    "df.shape"
   ]
  },
  {
   "cell_type": "code",
   "execution_count": 43,
   "metadata": {},
   "outputs": [],
   "source": [
    "df = df[['Nausea', 'Vomit', 'Phonophobia', 'Photophobia', 'Dysphasia', 'Dysarthria', 'Vertigo', 'Tinnitus', 'Hypoacusis', 'Diplopia', 'Defect', 'Ataxia', 'Conscience', 'Paresthesia', \"DPF\"]]"
   ]
  },
  {
   "cell_type": "code",
   "execution_count": 44,
   "metadata": {},
   "outputs": [],
   "source": [
    "df = df.drop_duplicates()"
   ]
  },
  {
   "cell_type": "code",
   "execution_count": 45,
   "metadata": {},
   "outputs": [
    {
     "data": {
      "text/plain": [
       "(68, 15)"
      ]
     },
     "execution_count": 45,
     "metadata": {},
     "output_type": "execute_result"
    }
   ],
   "source": [
    "df.shape"
   ]
  },
  {
   "cell_type": "code",
   "execution_count": 46,
   "metadata": {},
   "outputs": [
    {
     "data": {
      "text/html": [
       "<div>\n",
       "<style scoped>\n",
       "    .dataframe tbody tr th:only-of-type {\n",
       "        vertical-align: middle;\n",
       "    }\n",
       "\n",
       "    .dataframe tbody tr th {\n",
       "        vertical-align: top;\n",
       "    }\n",
       "\n",
       "    .dataframe thead th {\n",
       "        text-align: right;\n",
       "    }\n",
       "</style>\n",
       "<table border=\"1\" class=\"dataframe\">\n",
       "  <thead>\n",
       "    <tr style=\"text-align: right;\">\n",
       "      <th></th>\n",
       "      <th>Nausea</th>\n",
       "      <th>Vomit</th>\n",
       "      <th>Phonophobia</th>\n",
       "      <th>Photophobia</th>\n",
       "      <th>Dysphasia</th>\n",
       "      <th>Dysarthria</th>\n",
       "      <th>Vertigo</th>\n",
       "      <th>Tinnitus</th>\n",
       "      <th>Hypoacusis</th>\n",
       "      <th>Diplopia</th>\n",
       "      <th>Defect</th>\n",
       "      <th>Ataxia</th>\n",
       "      <th>Conscience</th>\n",
       "      <th>Paresthesia</th>\n",
       "      <th>DPF</th>\n",
       "    </tr>\n",
       "  </thead>\n",
       "  <tbody>\n",
       "    <tr>\n",
       "      <th>0</th>\n",
       "      <td>1</td>\n",
       "      <td>0</td>\n",
       "      <td>1</td>\n",
       "      <td>1</td>\n",
       "      <td>0</td>\n",
       "      <td>0</td>\n",
       "      <td>0</td>\n",
       "      <td>0</td>\n",
       "      <td>0</td>\n",
       "      <td>0</td>\n",
       "      <td>0</td>\n",
       "      <td>0</td>\n",
       "      <td>0</td>\n",
       "      <td>0</td>\n",
       "      <td>0</td>\n",
       "    </tr>\n",
       "    <tr>\n",
       "      <th>1</th>\n",
       "      <td>1</td>\n",
       "      <td>1</td>\n",
       "      <td>1</td>\n",
       "      <td>1</td>\n",
       "      <td>0</td>\n",
       "      <td>0</td>\n",
       "      <td>1</td>\n",
       "      <td>0</td>\n",
       "      <td>0</td>\n",
       "      <td>0</td>\n",
       "      <td>0</td>\n",
       "      <td>0</td>\n",
       "      <td>0</td>\n",
       "      <td>0</td>\n",
       "      <td>0</td>\n",
       "    </tr>\n",
       "    <tr>\n",
       "      <th>2</th>\n",
       "      <td>1</td>\n",
       "      <td>1</td>\n",
       "      <td>1</td>\n",
       "      <td>1</td>\n",
       "      <td>0</td>\n",
       "      <td>0</td>\n",
       "      <td>0</td>\n",
       "      <td>0</td>\n",
       "      <td>0</td>\n",
       "      <td>0</td>\n",
       "      <td>0</td>\n",
       "      <td>0</td>\n",
       "      <td>0</td>\n",
       "      <td>0</td>\n",
       "      <td>0</td>\n",
       "    </tr>\n",
       "    <tr>\n",
       "      <th>3</th>\n",
       "      <td>1</td>\n",
       "      <td>0</td>\n",
       "      <td>1</td>\n",
       "      <td>1</td>\n",
       "      <td>0</td>\n",
       "      <td>0</td>\n",
       "      <td>1</td>\n",
       "      <td>0</td>\n",
       "      <td>0</td>\n",
       "      <td>0</td>\n",
       "      <td>0</td>\n",
       "      <td>0</td>\n",
       "      <td>0</td>\n",
       "      <td>0</td>\n",
       "      <td>0</td>\n",
       "    </tr>\n",
       "    <tr>\n",
       "      <th>4</th>\n",
       "      <td>1</td>\n",
       "      <td>0</td>\n",
       "      <td>1</td>\n",
       "      <td>1</td>\n",
       "      <td>0</td>\n",
       "      <td>0</td>\n",
       "      <td>0</td>\n",
       "      <td>0</td>\n",
       "      <td>0</td>\n",
       "      <td>0</td>\n",
       "      <td>0</td>\n",
       "      <td>0</td>\n",
       "      <td>0</td>\n",
       "      <td>0</td>\n",
       "      <td>1</td>\n",
       "    </tr>\n",
       "  </tbody>\n",
       "</table>\n",
       "</div>"
      ],
      "text/plain": [
       "   Nausea  Vomit  Phonophobia  Photophobia  Dysphasia  Dysarthria  Vertigo  \\\n",
       "0       1      0            1            1          0           0        0   \n",
       "1       1      1            1            1          0           0        1   \n",
       "2       1      1            1            1          0           0        0   \n",
       "3       1      0            1            1          0           0        1   \n",
       "4       1      0            1            1          0           0        0   \n",
       "\n",
       "   Tinnitus  Hypoacusis  Diplopia  Defect  Ataxia  Conscience  Paresthesia  \\\n",
       "0         0           0         0       0       0           0            0   \n",
       "1         0           0         0       0       0           0            0   \n",
       "2         0           0         0       0       0           0            0   \n",
       "3         0           0         0       0       0           0            0   \n",
       "4         0           0         0       0       0           0            0   \n",
       "\n",
       "   DPF  \n",
       "0    0  \n",
       "1    0  \n",
       "2    0  \n",
       "3    0  \n",
       "4    1  "
      ]
     },
     "execution_count": 46,
     "metadata": {},
     "output_type": "execute_result"
    }
   ],
   "source": [
    "df.head()"
   ]
  },
  {
   "cell_type": "code",
   "execution_count": 47,
   "metadata": {},
   "outputs": [
    {
     "data": {
      "text/plain": [
       "(68, 15)"
      ]
     },
     "execution_count": 47,
     "metadata": {},
     "output_type": "execute_result"
    }
   ],
   "source": [
    "df.shape"
   ]
  },
  {
   "cell_type": "code",
   "execution_count": 48,
   "metadata": {},
   "outputs": [
    {
     "name": "stderr",
     "output_type": "stream",
     "text": [
      "C:\\Users\\diya0\\AppData\\Roaming\\Python\\Python312\\site-packages\\mlxtend\\frequent_patterns\\fpcommon.py:109: DeprecationWarning: DataFrames with non-bool types result in worse computationalperformance and their support might be discontinued in the future.Please use a DataFrame with bool type\n",
      "  warnings.warn(\n"
     ]
    }
   ],
   "source": [
    "frequent_itemsets = apriori(df, min_support=0.1, use_colnames=True)"
   ]
  },
  {
   "cell_type": "code",
   "execution_count": 49,
   "metadata": {},
   "outputs": [
    {
     "name": "stdout",
     "output_type": "stream",
     "text": [
      "       antecedents                                   consequents  \\\n",
      "0         (Nausea)                                       (Vomit)   \n",
      "1          (Vomit)                                      (Nausea)   \n",
      "2         (Nausea)                                 (Phonophobia)   \n",
      "3    (Phonophobia)                                      (Nausea)   \n",
      "4         (Nausea)                                 (Photophobia)   \n",
      "..             ...                                           ...   \n",
      "665  (Phonophobia)          (Nausea, Tinnitus, Photophobia, DPF)   \n",
      "666       (Nausea)     (DPF, Tinnitus, Photophobia, Phonophobia)   \n",
      "667          (DPF)  (Nausea, Tinnitus, Photophobia, Phonophobia)   \n",
      "668     (Tinnitus)       (Nausea, Photophobia, DPF, Phonophobia)   \n",
      "669  (Photophobia)          (Nausea, Tinnitus, DPF, Phonophobia)   \n",
      "\n",
      "     antecedent support  consequent support   support  confidence      lift  \\\n",
      "0              0.823529            0.264706  0.264706    0.321429  1.214286   \n",
      "1              0.264706            0.823529  0.264706    1.000000  1.214286   \n",
      "2              0.823529            0.750000  0.661765    0.803571  1.071429   \n",
      "3              0.750000            0.823529  0.661765    0.882353  1.071429   \n",
      "4              0.823529            0.823529  0.750000    0.910714  1.105867   \n",
      "..                  ...                 ...       ...         ...       ...   \n",
      "665            0.750000            0.161765  0.161765    0.215686  1.333333   \n",
      "666            0.823529            0.176471  0.161765    0.196429  1.113095   \n",
      "667            0.544118            0.250000  0.161765    0.297297  1.189189   \n",
      "668            0.264706            0.352941  0.161765    0.611111  1.731481   \n",
      "669            0.823529            0.161765  0.161765    0.196429  1.214286   \n",
      "\n",
      "     leverage  conviction  zhangs_metric  \n",
      "0    0.046713    1.083591       1.000000  \n",
      "1    0.046713         inf       0.240000  \n",
      "2    0.044118    1.272727       0.377778  \n",
      "3    0.044118    1.500000       0.266667  \n",
      "4    0.071799    1.976471       0.542484  \n",
      "..        ...         ...            ...  \n",
      "665  0.040441    1.068750       1.000000  \n",
      "666  0.016436    1.024837       0.575758  \n",
      "667  0.025735    1.067308       0.348974  \n",
      "668  0.068339    1.663866       0.574545  \n",
      "669  0.028547    1.043137       1.000000  \n",
      "\n",
      "[670 rows x 10 columns]\n"
     ]
    }
   ],
   "source": [
    "rules = association_rules(frequent_itemsets, metric=\"lift\", min_threshold=1)\n",
    "print(rules)"
   ]
  },
  {
   "cell_type": "code",
   "execution_count": 50,
   "metadata": {},
   "outputs": [
    {
     "data": {
      "text/plain": [
       "0      0.321429\n",
       "1      1.000000\n",
       "2      0.803571\n",
       "3      0.882353\n",
       "4      0.910714\n",
       "         ...   \n",
       "665    0.215686\n",
       "666    0.196429\n",
       "667    0.297297\n",
       "668    0.611111\n",
       "669    0.196429\n",
       "Name: confidence, Length: 670, dtype: float64"
      ]
     },
     "execution_count": 50,
     "metadata": {},
     "output_type": "execute_result"
    }
   ],
   "source": [
    "rules['confidence']"
   ]
  },
  {
   "cell_type": "code",
   "execution_count": 51,
   "metadata": {},
   "outputs": [
    {
     "data": {
      "text/plain": [
       "0      1.214286\n",
       "1      1.214286\n",
       "2      1.071429\n",
       "3      1.071429\n",
       "4      1.105867\n",
       "         ...   \n",
       "665    1.333333\n",
       "666    1.113095\n",
       "667    1.189189\n",
       "668    1.731481\n",
       "669    1.214286\n",
       "Name: lift, Length: 670, dtype: float64"
      ]
     },
     "execution_count": 51,
     "metadata": {},
     "output_type": "execute_result"
    }
   ],
   "source": [
    "rules['lift']"
   ]
  },
  {
   "cell_type": "code",
   "execution_count": 53,
   "metadata": {},
   "outputs": [
    {
     "name": "stdout",
     "output_type": "stream",
     "text": [
      "                        antecedents                         consequents  \\\n",
      "S.No                                                                      \n",
      "1                      (Conscience)               (Nausea, Phonophobia)   \n",
      "2                       (Dysphasia)               (Nausea, Phonophobia)   \n",
      "3     (Vertigo, Photophobia, Vomit)               (Nausea, Phonophobia)   \n",
      "4                       (Dysphasia)  (Nausea, Phonophobia, Photophobia)   \n",
      "5         (Hypoacusis, Photophobia)               (Nausea, Phonophobia)   \n",
      "6          (Photophobia, Dysphasia)               (Nausea, Phonophobia)   \n",
      "7                      (Hypoacusis)  (Nausea, Phonophobia, Photophobia)   \n",
      "8                  (Vertigo, Vomit)  (Nausea, Phonophobia, Photophobia)   \n",
      "9         (Conscience, Photophobia)               (Nausea, Phonophobia)   \n",
      "10                 (Vertigo, Vomit)               (Nausea, Phonophobia)   \n",
      "11                     (Conscience)  (Nausea, Phonophobia, Photophobia)   \n",
      "12                     (Hypoacusis)               (Nausea, Phonophobia)   \n",
      "13                       (Tinnitus)               (Nausea, Phonophobia)   \n",
      "14                       (Tinnitus)  (Nausea, Phonophobia, Photophobia)   \n",
      "15          (Tinnitus, Photophobia)               (Nausea, Phonophobia)   \n",
      "16                 (Vertigo, Vomit)          (Photophobia, Phonophobia)   \n",
      "17             (Nausea, Conscience)          (Phonophobia, Photophobia)   \n",
      "18               (Nausea, Tinnitus)          (Phonophobia, Photophobia)   \n",
      "19             (Nausea, Hypoacusis)          (Phonophobia, Photophobia)   \n",
      "20                  (DPF, Tinnitus)          (Phonophobia, Photophobia)   \n",
      "21                      (Dysphasia)          (Phonophobia, Photophobia)   \n",
      "22              (Tinnitus, Vertigo)          (Phonophobia, Photophobia)   \n",
      "23         (Nausea, Vertigo, Vomit)          (Phonophobia, Photophobia)   \n",
      "24          (Nausea, Tinnitus, DPF)          (Photophobia, Phonophobia)   \n",
      "25                     (Conscience)          (Phonophobia, Photophobia)   \n",
      "26                       (Tinnitus)          (Phonophobia, Photophobia)   \n",
      "27              (Nausea, Dysphasia)          (Phonophobia, Photophobia)   \n",
      "28      (Nausea, Tinnitus, Vertigo)          (Photophobia, Phonophobia)   \n",
      "29                     (Hypoacusis)          (Phonophobia, Photophobia)   \n",
      "30     (DPF, Tinnitus, Photophobia)               (Nausea, Phonophobia)   \n",
      "\n",
      "      confidence      lift  \n",
      "S.No                        \n",
      "1       1.000000  1.511111  \n",
      "2       1.000000  1.511111  \n",
      "3       1.000000  1.511111  \n",
      "4       1.000000  1.511111  \n",
      "5       1.000000  1.511111  \n",
      "6       1.000000  1.511111  \n",
      "7       1.000000  1.511111  \n",
      "8       1.000000  1.511111  \n",
      "9       1.000000  1.511111  \n",
      "10      1.000000  1.511111  \n",
      "11      1.000000  1.511111  \n",
      "12      1.000000  1.511111  \n",
      "13      0.944444  1.427160  \n",
      "14      0.944444  1.427160  \n",
      "15      0.944444  1.427160  \n",
      "16      1.000000  1.416667  \n",
      "17      1.000000  1.416667  \n",
      "18      1.000000  1.416667  \n",
      "19      1.000000  1.416667  \n",
      "20      1.000000  1.416667  \n",
      "21      1.000000  1.416667  \n",
      "22      1.000000  1.416667  \n",
      "23      1.000000  1.416667  \n",
      "24      1.000000  1.416667  \n",
      "25      1.000000  1.416667  \n",
      "26      1.000000  1.416667  \n",
      "27      1.000000  1.416667  \n",
      "28      1.000000  1.416667  \n",
      "29      1.000000  1.416667  \n",
      "30      0.916667  1.385185  \n"
     ]
    }
   ],
   "source": [
    "filtered_rules = rules[(rules['confidence'] > 0.7) & (rules['lift'] > 0.8)]\n",
    "\n",
    "filtered_rules = filtered_rules.sort_values(by='lift', ascending=False)\n",
    "\n",
    "# Select the top 10 rules\n",
    "top_10_rules = filtered_rules.head(30)\n",
    "\n",
    "# Display the antecedents, consequents, confidence, and lift values\n",
    "top_10_table = top_10_rules[['antecedents', 'consequents', 'confidence', 'lift']]\n",
    "top_10_table = top_10_table.reset_index(drop=True)\n",
    "\n",
    "top_10_table.index += 1\n",
    "top_10_table.index.name = 'S.No'\n",
    "\n",
    "print(top_10_table)"
   ]
  }
 ],
 "metadata": {
  "kernelspec": {
   "display_name": "Python 3",
   "language": "python",
   "name": "python3"
  },
  "language_info": {
   "codemirror_mode": {
    "name": "ipython",
    "version": 3
   },
   "file_extension": ".py",
   "mimetype": "text/x-python",
   "name": "python",
   "nbconvert_exporter": "python",
   "pygments_lexer": "ipython3",
   "version": "3.12.1"
  }
 },
 "nbformat": 4,
 "nbformat_minor": 2
}
